{
  "cells": [
    {
      "cell_type": "markdown",
      "metadata": {
        "id": "WP2vPycOfAB9"
      },
      "source": [
        "## Instroduction\n",
        "\n",
        "client - requests for service\n",
        "\n",
        "server - responds to requests\n",
        "-they wait for ever to respond to the clients"
      ]
    },
    {
      "cell_type": "markdown",
      "metadata": {
        "id": "cZib3KQ0fQsC"
      },
      "source": [
        "Eg of servers:web servers db servers annd fileservers"
      ]
    },
    {
      "cell_type": "markdown",
      "metadata": {
        "id": "_Jvdhv8VfVOO"
      },
      "source": [
        "server sudo code (TCP)"
      ]
    },
    {
      "cell_type": "code",
      "execution_count": null,
      "metadata": {
        "id": "ipintil7fXSU"
      },
      "outputs": [],
      "source": [
        "while True:\n",
        "    accept_request()\n",
        "    open_conection()\n",
        "\n",
        "    while connection_exists:\n",
        "        recieve()\n",
        "        respond()\n",
        "    close_connection()"
      ]
    },
    {
      "cell_type": "markdown",
      "metadata": {
        "id": "PUEVlh62fpj_"
      },
      "source": [
        "client sudo code"
      ]
    },
    {
      "cell_type": "code",
      "execution_count": null,
      "metadata": {
        "id": "unncwItRfrFH"
      },
      "outputs": [],
      "source": [
        "get_server_address()\n",
        "request_connection()\n",
        "\n",
        "while connected:\n",
        "    send_request()\n",
        "    get_response()\n",
        "close_connection()"
      ]
    },
    {
      "cell_type": "markdown",
      "metadata": {
        "id": "vIBTMEaTg8pq"
      },
      "source": [
        "For two ppl to talk with each other we need a communicaion channel.\n",
        "\n",
        "sockets : the end points of a bi-directional communication channel.\n",
        "communication can be within the machine's processes or across the continent over the internet\n",
        "\n",
        "Implemented over tcp,udp etc\n",
        "\n",
        "Python provides socket library "
      ]
    },
    {
      "cell_type": "markdown",
      "metadata": {
        "id": "2y5BZuHFh6JW"
      },
      "source": [
        "ip is an identifier to locate nodes"
      ]
    },
    {
      "cell_type": "code",
      "execution_count": 1,
      "metadata": {
        "id": "MFW4rG87hzOv"
      },
      "outputs": [],
      "source": [
        "import socket"
      ]
    },
    {
      "cell_type": "code",
      "execution_count": 2,
      "metadata": {
        "colab": {
          "base_uri": "https://localhost:8080/",
          "height": 42
        },
        "id": "kVaPYViph-oj",
        "outputId": "8d4b39e9-bb94-4ce0-fe9f-ddd477a07611"
      },
      "outputs": [
        {
          "data": {
            "text/plain": [
              "'chandradhar-ASUS-Gaming-FX570UD'"
            ]
          },
          "execution_count": 2,
          "metadata": {},
          "output_type": "execute_result"
        }
      ],
      "source": [
        "hostname = socket.gethostname()\n",
        "hostname"
      ]
    },
    {
      "cell_type": "code",
      "execution_count": 3,
      "metadata": {
        "colab": {
          "base_uri": "https://localhost:8080/",
          "height": 42
        },
        "id": "NTWD14lMiKbZ",
        "outputId": "159b5953-e499-4287-f4ca-fa1ba78c14e2"
      },
      "outputs": [
        {
          "data": {
            "text/plain": [
              "'127.0.1.1'"
            ]
          },
          "execution_count": 3,
          "metadata": {},
          "output_type": "execute_result"
        }
      ],
      "source": [
        "ip = socket.gethostbyname(hostname) #get ip address using hostname\n",
        "ip"
      ]
    },
    {
      "cell_type": "markdown",
      "metadata": {
        "id": "hIAiqz2SinPu"
      },
      "source": [
        "## socket creation\n",
        "\n",
        "to create socket use socket.socket (\n",
        "\n",
        "    socket_family - AF_UNIX || AF_INET\n",
        "    socket_type - SOCK_STREAM,SOCK_DGRAM\n",
        "    protocol = 0\n",
        ")\n",
        "\n",
        "af_unix -> communicate within processes\n",
        "\n",
        "af_inet -> communicate across the internet\n",
        "\n",
        "\n",
        "sock_stream - tcp type - connection oriented\n",
        "\n",
        "sock_dgram - udp type - connectionless\n"
      ]
    },
    {
      "cell_type": "markdown",
      "metadata": {
        "id": "eywpBQyXjcdC"
      },
      "source": [
        "server socket methods\n",
        "\n",
        "s = socket.socket()\n",
        "\n",
        "s.bind((hostname,port number pair)) used to bind hostname with the port number\n",
        "\n",
        "s.listen() - sets up and start TCP Listener to listen to any clinet\n",
        "\n",
        "s.accept() - acccept connection with client\n"
      ]
    },
    {
      "cell_type": "markdown",
      "metadata": {
        "id": "8dWs5H5rj2eD"
      },
      "source": [
        "## client socket methods\n",
        "\n",
        "s.connect() - initiates tcp server connection\n",
        "\n",
        "general methods:\n",
        "\n",
        "s.rcv() - recieve tcp messages\n",
        "\n",
        "s.send() - send tcp messages\n",
        "\n",
        "s.recvfrom() - recieve from udp message\n",
        "\n",
        "s.sendto() - send udp messages"
      ]
    },
    {
      "cell_type": "code",
      "execution_count": null,
      "metadata": {
        "id": "V_fxcHtFiXce"
      },
      "outputs": [],
      "source": [
        "host = [\"www.python.org\",'www.pes.edu','www.google.com','www']"
      ]
    },
    {
      "cell_type": "code",
      "execution_count": null,
      "metadata": {
        "colab": {
          "base_uri": "https://localhost:8080/"
        },
        "id": "os2fUthwnA1F",
        "outputId": "ce6b8880-8522-44d0-adb1-3c4980f9e817"
      },
      "outputs": [
        {
          "name": "stdout",
          "output_type": "stream",
          "text": [
            "www.python.org 151.101.76.223\n",
            "www.pes.edu 52.172.204.196\n",
            "www.google.com 142.251.8.103\n",
            "www [Errno -2] Name or service not known\n"
          ]
        }
      ],
      "source": [
        "for ahost in host:\n",
        "    try:\n",
        "        print(ahost,socket.gethostbyname(ahost)) #get me the ip address of the hot\n",
        "    except socket.error as msg:\n",
        "        print(ahost,msg)"
      ]
    },
    {
      "cell_type": "markdown",
      "metadata": {
        "id": "JCXhOylLnvec"
      },
      "source": [
        "gethostbyname_ex() - returns the aliases,canonical_names,all ip addresses to reach the host\n",
        "\n",
        "(hostname,aliases,addresses)"
      ]
    },
    {
      "cell_type": "code",
      "execution_count": 4,
      "metadata": {
        "id": "5jXyYRNUnPD-"
      },
      "outputs": [],
      "source": [
        "host = ['home','www','www.pes.edu','www.python.org']"
      ]
    },
    {
      "cell_type": "code",
      "execution_count": 6,
      "metadata": {
        "colab": {
          "base_uri": "https://localhost:8080/"
        },
        "id": "083ahAbmoAhK",
        "outputId": "9403455d-3e2c-48b0-d1a8-347dac293dae"
      },
      "outputs": [
        {
          "name": "stdout",
          "output_type": "stream",
          "text": [
            "ERROR [Errno -3] Temporary failure in name resolution\n",
            "ERROR [Errno -3] Temporary failure in name resolution\n",
            "hostname waws-prod-pn1-007.cloudapp.net,aliases ['www.pes.edu', 'pesuniversity.azurewebsites.net', 'waws-prod-pn1-007.sip.azurewebsites.windows.net'] & addresses ['52.172.204.196']\n",
            "hostname dualstack.python.map.fastly.net,aliases ['www.python.org'] & addresses ['151.101.156.223']\n"
          ]
        }
      ],
      "source": [
        "for a in host:\n",
        "    try:\n",
        "        hostname,aliases,addresses = socket.gethostbyname_ex(a)\n",
        "        print(f'hostname {hostname},aliases {aliases} & addresses {addresses}')\n",
        "    except socket.error as msg:\n",
        "        print(\"ERROR\",msg)"
      ]
    },
    {
      "cell_type": "markdown",
      "metadata": {
        "id": "pqt5axI3o6Gp"
      },
      "source": [
        "## Port Numbers\n",
        "\n",
        "portnumbers - identify processes within the machine identified using IP address, that need to consume the packet\n",
        "\n",
        "socket - (port_num _ ip_address)\n",
        "\n",
        "num of ports = 0 to 65354\n",
        "\n",
        "reserved ports : 0 to 1023\n",
        "\n",
        "protocol | common | functionality | port | no module\n",
        "\n",
        "http - webpages - 80 - httplib,urllib\n",
        "\n",
        "ftp -  file transfer - 20 - ftplib , urlib\n",
        "\n",
        "smtp  - sending mail - 25 - smptlib"
      ]
    },
    {
      "cell_type": "code",
      "execution_count": 7,
      "metadata": {
        "id": "9uHqm7FjodsE"
      },
      "outputs": [],
      "source": [
        "from urllib.parse import urlparse"
      ]
    },
    {
      "cell_type": "code",
      "execution_count": 8,
      "metadata": {
        "id": "ET4zI7RHqQP9"
      },
      "outputs": [],
      "source": [
        "urls = [\n",
        "       \"http://www.python.org\",\n",
        "        \"ftp://prep.ai.mit.edu\",\n",
        "        \"gopher://gopher.micro.umn.edu\" \n",
        "]"
      ]
    },
    {
      "cell_type": "code",
      "execution_count": 9,
      "metadata": {
        "colab": {
          "base_uri": "https://localhost:8080/"
        },
        "id": "5kRR2-Gyqkef",
        "outputId": "aa21c523-0da0-4291-efa0-37e0123f604f"
      },
      "outputs": [
        {
          "name": "stdout",
          "output_type": "stream",
          "text": [
            "ParseResult(scheme='http', netloc='www.python.org', path='', params='', query='', fragment='')\n",
            "80\n",
            "ParseResult(scheme='ftp', netloc='prep.ai.mit.edu', path='', params='', query='', fragment='')\n",
            "21\n",
            "ParseResult(scheme='gopher', netloc='gopher.micro.umn.edu', path='', params='', query='', fragment='')\n",
            "70\n"
          ]
        }
      ],
      "source": [
        "for url in urls:\n",
        "    parsed_url = urlparse(url) #split url into component pieces\n",
        "    #scheme->diff types of servers eg:http,https\n",
        "    print(parsed_url)\n",
        "    try:\n",
        "        #function to get port number,serv->services information like port num etc\n",
        "        port = socket.getservbyname(parsed_url.scheme) \n",
        "        print(port)\n",
        "    except Exception as E:\n",
        "        print(E)"
      ]
    }
  ],
  "metadata": {
    "colab": {
      "name": "netowrking_5_1.ipynb",
      "provenance": []
    },
    "kernelspec": {
      "display_name": "Python 3",
      "name": "python3"
    },
    "language_info": {
      "codemirror_mode": {
        "name": "ipython",
        "version": 3
      },
      "file_extension": ".py",
      "mimetype": "text/x-python",
      "name": "python",
      "nbconvert_exporter": "python",
      "pygments_lexer": "ipython3",
      "version": "3.8.10"
    }
  },
  "nbformat": 4,
  "nbformat_minor": 0
}
